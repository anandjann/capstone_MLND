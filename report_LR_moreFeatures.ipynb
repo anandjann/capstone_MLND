{
  "cells": [
    {
      "metadata": {
        "_uuid": "8f2839f25d086af736a60e9eeb907d3b93b6e0e5",
        "_cell_guid": "b1076dfc-b9ad-4769-8c92-a6c4dae69d19",
        "trusted": true
      },
      "cell_type": "code",
      "source": "# This Python 3 environment comes with many helpful analytics libraries installed\n# It is defined by the kaggle/python docker image: https://github.com/kaggle/docker-python\n# For example, here's several helpful packages to load in \n\nimport numpy as np # linear algebra\nimport pandas as pd # data processing, CSV file I/O (e.g. pd.read_csv)\nfrom collections import defaultdict, Counter\nimport nltk\nfrom nltk.corpus import stopwords, brown\nfrom nltk import word_tokenize\nfrom nltk.util import ngrams\nimport math\nstop_words = set(stopwords.words('english'))\nimport warnings\nwarnings.filterwarnings('ignore')\nimport matplotlib.pyplot as plt\n# Input data files are available in the \"../input/\" directory.\n# For example, running this (by clicking run or pressing Shift+Enter) will list the files in the input directory\n\nimport os\nprint(os.listdir(\"../input\"))\n\n# Any results you write to the current directory are saved as output.\n%matplotlib inline",
      "execution_count": 1,
      "outputs": [
        {
          "output_type": "stream",
          "text": "['embeddings', 'train.csv', 'sample_submission.csv', 'test.csv']\n",
          "name": "stdout"
        }
      ]
    },
    {
      "metadata": {
        "trusted": true,
        "_uuid": "a6058652bde55a404d8951956f238ccdda370de5"
      },
      "cell_type": "code",
      "source": "#importing the data\ntrain_df = pd.read_csv(\"../input/train.csv\")\ntest_df = pd.read_csv(\"../input/test.csv\")\nprint(\"Train shape : \", train_df.shape)\nprint(\"Test shape : \", test_df.shape)",
      "execution_count": 2,
      "outputs": [
        {
          "output_type": "stream",
          "text": "Train shape :  (1306122, 3)\nTest shape :  (56370, 2)\n",
          "name": "stdout"
        }
      ]
    },
    {
      "metadata": {
        "_cell_guid": "79c7e3d0-c299-4dcb-8224-4455121ee9b0",
        "_uuid": "d629ff2d2480ee46fbb7e2d37f6b5fab8052498a",
        "trusted": true
      },
      "cell_type": "code",
      "source": "#Number of words in the text\ntrain_df[\"words#\"] = train_df[\"question_text\"].apply(lambda x: len(str(x).split()))\ntest_df[\"words#\"] = test_df[\"question_text\"].apply(lambda x: len(str(x).split()))\n\n#Number of unique words in the text\ntrain_df[\"unique_words#\"] = train_df[\"question_text\"].apply(lambda x: len(set(str(x).split())))\ntest_df[\"unique_words#\"] = test_df[\"question_text\"].apply(lambda x: len(str(x).split()))",
      "execution_count": 3,
      "outputs": []
    },
    {
      "metadata": {
        "trusted": true,
        "_uuid": "35893b56a041ef514bb20b342fc95436ac89c9a4"
      },
      "cell_type": "code",
      "source": "#nlp/machine learning libraries\nfrom sklearn.pipeline import Pipeline, FeatureUnion\nfrom sklearn.base import BaseEstimator, TransformerMixin\nfrom sklearn.feature_extraction.text import TfidfVectorizer, CountVectorizer\nfrom sklearn.preprocessing import StandardScaler\nfrom sklearn.decomposition import TruncatedSVD\nfrom sklearn.ensemble import RandomForestClassifier\nfrom sklearn.naive_bayes import MultinomialNB\nfrom xgboost import XGBClassifier\nfrom sklearn.linear_model import LogisticRegression\nfrom sklearn.preprocessing import FunctionTransformer\nfrom sklearn import model_selection, preprocessing, linear_model, naive_bayes, metrics, svm\nfrom sklearn.model_selection import train_test_split,StratifiedShuffleSplit,GridSearchCV\nfrom sklearn.metrics import f1_score,classification_report,roc_curve,precision_recall_curve,auc,average_precision_score\nfrom sklearn.feature_selection import chi2, SelectKBest\nimport re\nimport pandas, xgboost, numpy, textblob, string\nimport gensim\nfrom gensim.models import Doc2Vec\nfrom gensim.models.doc2vec import TaggedDocument",
      "execution_count": 4,
      "outputs": []
    },
    {
      "metadata": {
        "trusted": true,
        "_uuid": "a0d52648756d1432d59725f4acde95839fe40077"
      },
      "cell_type": "code",
      "source": "X = train_df[['question_text', 'words#','unique_words#']]\nY = train_df['target']\nfrom sklearn.model_selection import train_test_split\nX_train, X_test, y_train, y_test = train_test_split(X, Y, test_size=0.20)",
      "execution_count": 5,
      "outputs": []
    },
    {
      "metadata": {
        "trusted": true,
        "_uuid": "4df2aecc1c0ea9dc7d8bbf38d695f8b053d719ae"
      },
      "cell_type": "code",
      "source": "# using function transformer to get the text data\ntext = FunctionTransformer(lambda x: x['question_text'], validate=False)\nnumeric = FunctionTransformer(lambda x: x[['words#','unique_words#']], validate=False)\ntext_numeric_features = FeatureUnion(\n                            transformer_list = [\n                            ('text_feature', Pipeline([\n                                ('text', text),\n                                ('tfidf', TfidfVectorizer(stop_words=stop_words, ngram_range=(1,3))),\n                            ])),\n                            ('numeric_features', Pipeline([\n                                ('numeric', numeric),\n                                ('scale', StandardScaler()),\n                            ]))\n                            ])\n\nlogistic_regression_advancedfeatures = Pipeline([\n    ('join_features', text_numeric_features),\n    ('classifier', LogisticRegression(solver='sag')),\n])\n",
      "execution_count": 6,
      "outputs": []
    },
    {
      "metadata": {
        "trusted": true,
        "_uuid": "7254927d499beb49b6d129abc1ae2159a906f998"
      },
      "cell_type": "code",
      "source": "#fitting the pipeline to the train data\nlogistic_regression_advancedfeatures.fit(X_train, y_train )",
      "execution_count": 7,
      "outputs": [
        {
          "output_type": "execute_result",
          "execution_count": 7,
          "data": {
            "text/plain": "Pipeline(memory=None,\n     steps=[('join_features', FeatureUnion(n_jobs=None,\n       transformer_list=[('text_feature', Pipeline(memory=None,\n     steps=[('text', FunctionTransformer(accept_sparse=False, check_inverse=True,\n          func=<function <lambda> at 0x7f2d7af69d90>, inv_kw_args=None,\n          inverse_func=None, kw... penalty='l2', random_state=None, solver='sag',\n          tol=0.0001, verbose=0, warm_start=False))])"
          },
          "metadata": {}
        }
      ]
    },
    {
      "metadata": {
        "trusted": true,
        "_uuid": "04e19ad00121154b06d132d1d3d902c1193e4126"
      },
      "cell_type": "code",
      "source": "logistic_regression_advancedfeatures_preds = logistic_regression_advancedfeatures.predict(X_test)\nprint(classification_report(y_test, logistic_regression_advancedfeatures_preds))",
      "execution_count": 8,
      "outputs": [
        {
          "output_type": "stream",
          "text": "              precision    recall  f1-score   support\n\n           0       0.97      0.98      0.97    245155\n           1       0.60      0.54      0.57     16070\n\n   micro avg       0.95      0.95      0.95    261225\n   macro avg       0.78      0.76      0.77    261225\nweighted avg       0.95      0.95      0.95    261225\n\n",
          "name": "stdout"
        }
      ]
    },
    {
      "metadata": {
        "trusted": true,
        "_uuid": "b57b0db10d3b939bebbd90d9d9c22aacf9db37e9"
      },
      "cell_type": "code",
      "source": "logistic_regression_advancedfeatures_preds_prob = logistic_regression_advancedfeatures.predict_proba(X_test)[:,1]",
      "execution_count": 9,
      "outputs": []
    },
    {
      "metadata": {
        "_uuid": "77295234591b2543118a5db123408db4520b4c0b"
      },
      "cell_type": "markdown",
      "source": "#### Choosing Optimal threshold with better F1 score\n"
    },
    {
      "metadata": {
        "trusted": true,
        "_uuid": "60f00fd360e649eb5cd5e8f6aa9a985d5ce3bc91"
      },
      "cell_type": "code",
      "source": "f1_list = []\nfor threshold in np.arange(0.1, 0.8, 0.01):\n    threshold = np.round(threshold, 2)\n    f1_list.append((f1_score(y_test, (logistic_regression_advancedfeatures_preds_prob>threshold).astype(int)),threshold))\n    print(\"F1 score at threshold {0} is {1}\".format(threshold, f1_score(y_test, (logistic_regression_advancedfeatures_preds_prob>threshold).astype(int))))",
      "execution_count": 10,
      "outputs": [
        {
          "output_type": "stream",
          "text": "F1 score at threshold 0.1 is 0.49806150087630785\nF1 score at threshold 0.11 is 0.510390231343558\nF1 score at threshold 0.12 is 0.5208091936556177\nF1 score at threshold 0.13 is 0.5301808502309558\nF1 score at threshold 0.14 is 0.5387369267900242\nF1 score at threshold 0.15 is 0.5452110121991428\nF1 score at threshold 0.16 is 0.5506855093862053\nF1 score at threshold 0.17 is 0.5559270844569086\nF1 score at threshold 0.18 is 0.5613563800506441\nF1 score at threshold 0.19 is 0.5663506044128881\nF1 score at threshold 0.2 is 0.5696506600169294\nF1 score at threshold 0.21 is 0.5726855839288624\nF1 score at threshold 0.22 is 0.5750497488865727\nF1 score at threshold 0.23 is 0.5776258455908906\nF1 score at threshold 0.24 is 0.5803468773697987\nF1 score at threshold 0.25 is 0.5826158159847149\nF1 score at threshold 0.26 is 0.5851200524048272\nF1 score at threshold 0.27 is 0.5859365022604787\nF1 score at threshold 0.28 is 0.5873085792760344\nF1 score at threshold 0.29 is 0.5884298388366843\nF1 score at threshold 0.3 is 0.5893317048562249\nF1 score at threshold 0.31 is 0.5892444205431567\nF1 score at threshold 0.32 is 0.5897707806509503\nF1 score at threshold 0.33 is 0.5896666574912606\nF1 score at threshold 0.34 is 0.5894824707846411\nF1 score at threshold 0.35 is 0.5892018118898236\nF1 score at threshold 0.36 is 0.5886034536713038\nF1 score at threshold 0.37 is 0.5881032547699214\nF1 score at threshold 0.38 is 0.5882181987270773\nF1 score at threshold 0.39 is 0.5864440656046088\nF1 score at threshold 0.4 is 0.584747021598978\nF1 score at threshold 0.41 is 0.5844112968576487\nF1 score at threshold 0.42 is 0.5823459895154692\nF1 score at threshold 0.43 is 0.5807538042313463\nF1 score at threshold 0.44 is 0.5783333849057771\nF1 score at threshold 0.45 is 0.5765923517088271\nF1 score at threshold 0.46 is 0.5739437730729183\nF1 score at threshold 0.47 is 0.572948860920822\nF1 score at threshold 0.48 is 0.5711434457893382\nF1 score at threshold 0.49 is 0.5685757960126191\nF1 score at threshold 0.5 is 0.5656883986606264\nF1 score at threshold 0.51 is 0.5639107698417952\nF1 score at threshold 0.52 is 0.5617399438727783\nF1 score at threshold 0.53 is 0.5583026950450298\nF1 score at threshold 0.54 is 0.5559525024667415\nF1 score at threshold 0.55 is 0.5527869302580999\nF1 score at threshold 0.56 is 0.5497715630624395\nF1 score at threshold 0.57 is 0.5473794549266247\nF1 score at threshold 0.58 is 0.5437365581920107\nF1 score at threshold 0.59 is 0.5400945912307528\nF1 score at threshold 0.6 is 0.5370104719552431\nF1 score at threshold 0.61 is 0.5328652092080499\nF1 score at threshold 0.62 is 0.5289153545464509\nF1 score at threshold 0.63 is 0.5244837758112094\nF1 score at threshold 0.64 is 0.519620606286033\nF1 score at threshold 0.65 is 0.5139232905501764\nF1 score at threshold 0.66 is 0.5106898248003935\nF1 score at threshold 0.67 is 0.5059541984732824\nF1 score at threshold 0.68 is 0.5001542257865516\nF1 score at threshold 0.69 is 0.49535435213622053\nF1 score at threshold 0.7 is 0.4902391219129753\nF1 score at threshold 0.71 is 0.48438056776339233\nF1 score at threshold 0.72 is 0.479402842088456\nF1 score at threshold 0.73 is 0.4732812122189086\nF1 score at threshold 0.74 is 0.46738024500427333\nF1 score at threshold 0.75 is 0.4602985320120071\nF1 score at threshold 0.76 is 0.4530607156214936\nF1 score at threshold 0.77 is 0.4464690570157024\nF1 score at threshold 0.78 is 0.4397896879240163\nF1 score at threshold 0.79 is 0.4341536486197303\n",
          "name": "stdout"
        }
      ]
    },
    {
      "metadata": {
        "trusted": true,
        "_uuid": "6abcea6fb5301fdaa919b16ef4eabee4cc963b08"
      },
      "cell_type": "code",
      "source": "def sort_tuple(tup):\n    return tup[0]\n\nbest_threshold = sorted(f1_list,key=sort_tuple, reverse=True)[0][1]",
      "execution_count": 11,
      "outputs": []
    },
    {
      "metadata": {
        "trusted": true,
        "_uuid": "f20c5b9175d4e8674f654e427826fffc9e85eab9"
      },
      "cell_type": "code",
      "source": "##creating a submission file with the optimal threshold with the baseline model\ndef submission(df, predictions, file_name, threshold=0.20):\n    print('Optimal threshold with better F1 score is: ', threshold)\n    results = (predictions > threshold).astype(int)\n    df['prediction'] = results\n    file = (file_name + '.csv')\n    df.to_csv(file, index=False)",
      "execution_count": 12,
      "outputs": []
    },
    {
      "metadata": {
        "trusted": true,
        "_uuid": "e2b6c6f87ffcc980b08b1533e511029db934d765"
      },
      "cell_type": "code",
      "source": "#predicting the classes on test data\nlogistic_regression_advancedfeatures_preds_prob = logistic_regression_advancedfeatures.predict_proba(test_df)[:,1]",
      "execution_count": 13,
      "outputs": []
    },
    {
      "metadata": {
        "trusted": true,
        "_uuid": "ad0600fbcfd09c69ab1029b50ee2cd9cab58d743"
      },
      "cell_type": "code",
      "source": "print('Saving the results in the submission file')\nsub_df = pd.read_csv('../input/sample_submission.csv')\nsubmission(sub_df, logistic_regression_advancedfeatures_preds_prob, 'submission', threshold=best_threshold)",
      "execution_count": 14,
      "outputs": [
        {
          "output_type": "stream",
          "text": "Saving the results in the submission file\nOptimal threshold with better F1 score is:  0.32\n",
          "name": "stdout"
        }
      ]
    },
    {
      "metadata": {
        "trusted": true,
        "_uuid": "7f6fabf09236518fa07b337355ea54e13c2e5732"
      },
      "cell_type": "code",
      "source": "print(\"At threshold {0} we are getting better F1 score and we will be choosing this threshold for our submission.\".format(best_threshold))",
      "execution_count": 15,
      "outputs": [
        {
          "output_type": "stream",
          "text": "At threshold 0.32 we are getting better F1 score and we will be choosing this threshold for our submission.\n",
          "name": "stdout"
        }
      ]
    },
    {
      "metadata": {
        "_uuid": "2c39bcb8d2dc1e015b4df277bede203663b8e8bc"
      },
      "cell_type": "markdown",
      "source": "### Precision Recall Curve"
    },
    {
      "metadata": {
        "trusted": true,
        "_uuid": "352186c8bb494fe87b45ec832593fa480ef6121c"
      },
      "cell_type": "code",
      "source": "lr_advancedfeatures_preds_prob = logistic_regression_advancedfeatures.predict_proba(X_test)[:,1]",
      "execution_count": 16,
      "outputs": []
    },
    {
      "metadata": {
        "trusted": true,
        "_uuid": "5fb7a79a11fafad6261af0bd02b4ef7a6b710196"
      },
      "cell_type": "code",
      "source": "classfier_pred_list = [lr_advancedfeatures_preds_prob]\nclassifiers_list = ['Logistic Regression Feature Engineering']\ncount=0\nfor classifier,col in zip(classfier_pred_list,'g'):\n    p,r,_ = precision_recall_curve(y_test,classifier)   \n    plt.plot(r,p,c=col,label=classifiers_list[count])\n    count += 1\nplt.legend(loc='lower left')   \nplt.xlabel(\"Recall\")\nplt.ylabel(\"Precision\")\nplt.show()",
      "execution_count": 17,
      "outputs": [
        {
          "output_type": "display_data",
          "data": {
            "text/plain": "<Figure size 432x288 with 1 Axes>",
            "image/png": "[encoded data removed]"
          },
          "metadata": {}
        }
      ]
    }
  ],
  "metadata": {
    "kernelspec": {
      "display_name": "Python 3",
      "language": "python",
      "name": "python3"
    },
    "language_info": {
      "name": "python",
      "version": "3.6.6",
      "mimetype": "text/x-python",
      "codemirror_mode": {
        "name": "ipython",
        "version": 3
      },
      "pygments_lexer": "ipython3",
      "nbconvert_exporter": "python",
      "file_extension": ".py"
    }
  },
  "nbformat": 4,
  "nbformat_minor": 1
}