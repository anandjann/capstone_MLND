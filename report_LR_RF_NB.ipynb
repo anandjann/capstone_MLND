{
 "cells": [
  {
   "cell_type": "code",
   "execution_count": 40,
   "metadata": {
    "_cell_guid": "b1076dfc-b9ad-4769-8c92-a6c4dae69d19",
    "_uuid": "8f2839f25d086af736a60e9eeb907d3b93b6e0e5"
   },
   "outputs": [
    {
     "name": "stdout",
     "output_type": "stream",
     "text": [
      "['embeddings', 'train.csv', 'sample_submission.csv', 'test.csv']\n"
     ]
    }
   ],
   "source": [
    "# This Python 3 environment comes with many helpful analytics libraries installed\n",
    "# It is defined by the kaggle/python docker image: https://github.com/kaggle/docker-python\n",
    "# For example, here's several helpful packages to load in \n",
    "\n",
    "import numpy as np # linear algebra\n",
    "import pandas as pd # data processing, CSV file I/O (e.g. pd.read_csv)\n",
    "from collections import defaultdict, Counter\n",
    "import nltk\n",
    "from nltk.corpus import stopwords, brown\n",
    "from nltk import word_tokenize\n",
    "from nltk.util import ngrams\n",
    "import math\n",
    "stop_words = set(stopwords.words('english'))\n",
    "import warnings\n",
    "warnings.filterwarnings('ignore')\n",
    "import matplotlib.pyplot as plt\n",
    "# Input data files are available in the \"../input/\" directory.\n",
    "# For example, running this (by clicking run or pressing Shift+Enter) will list the files in the input directory\n",
    "\n",
    "import os\n",
    "print(os.listdir(\"../input\"))\n",
    "\n",
    "# Any results you write to the current directory are saved as output.\n",
    "%matplotlib inline"
   ]
  },
  {
   "cell_type": "code",
   "execution_count": 41,
   "metadata": {
    "_cell_guid": "79c7e3d0-c299-4dcb-8224-4455121ee9b0",
    "_uuid": "d629ff2d2480ee46fbb7e2d37f6b5fab8052498a"
   },
   "outputs": [
    {
     "name": "stdout",
     "output_type": "stream",
     "text": [
      "Train shape :  (1306122, 3)\n",
      "Test shape :  (56370, 2)\n"
     ]
    }
   ],
   "source": [
    "#importing the data\n",
    "train_df = pd.read_csv(\"../input/train.csv\")\n",
    "test_df = pd.read_csv(\"../input/test.csv\")\n",
    "print(\"Train shape : \", train_df.shape)\n",
    "print(\"Test shape : \", test_df.shape)"
   ]
  },
  {
   "cell_type": "markdown",
   "metadata": {
    "_uuid": "044b9517c38fde5a09869eb42779ec3739509cae"
   },
   "source": [
    "#### Baseline Model"
   ]
  },
  {
   "cell_type": "code",
   "execution_count": 42,
   "metadata": {
    "_uuid": "988d47dd82b20cce5d3e2e5b2bc176946cfb34c7"
   },
   "outputs": [],
   "source": [
    "#nlp/machine learning libraries\n",
    "from sklearn.pipeline import Pipeline, FeatureUnion\n",
    "from sklearn.base import BaseEstimator, TransformerMixin\n",
    "from sklearn.feature_extraction.text import TfidfVectorizer, CountVectorizer\n",
    "from sklearn.preprocessing import StandardScaler\n",
    "from sklearn.decomposition import TruncatedSVD\n",
    "from sklearn.ensemble import RandomForestClassifier\n",
    "from sklearn.naive_bayes import MultinomialNB\n",
    "from xgboost import XGBClassifier\n",
    "from sklearn.linear_model import LogisticRegression\n",
    "from sklearn.preprocessing import FunctionTransformer\n",
    "from sklearn import model_selection, preprocessing, linear_model, naive_bayes, metrics, svm\n",
    "from sklearn.model_selection import train_test_split,StratifiedShuffleSplit,GridSearchCV\n",
    "from sklearn.metrics import f1_score,classification_report,roc_curve,precision_recall_curve,auc,average_precision_score\n",
    "from sklearn.feature_selection import chi2, SelectKBest\n",
    "import re\n",
    "import pandas, xgboost, numpy, textblob, string\n",
    "import gensim\n",
    "from gensim.models import Doc2Vec\n",
    "from gensim.models.doc2vec import TaggedDocument"
   ]
  },
  {
   "cell_type": "code",
   "execution_count": 43,
   "metadata": {
    "_uuid": "833db3590be1011b4d1b3ac2a58106c1acf06813"
   },
   "outputs": [
    {
     "data": {
      "text/html": [
       "<div>\n",
       "<style scoped>\n",
       "    .dataframe tbody tr th:only-of-type {\n",
       "        vertical-align: middle;\n",
       "    }\n",
       "\n",
       "    .dataframe tbody tr th {\n",
       "        vertical-align: top;\n",
       "    }\n",
       "\n",
       "    .dataframe thead th {\n",
       "        text-align: right;\n",
       "    }\n",
       "</style>\n",
       "<table border=\"1\" class=\"dataframe\">\n",
       "  <thead>\n",
       "    <tr style=\"text-align: right;\">\n",
       "      <th></th>\n",
       "      <th>qid</th>\n",
       "      <th>question_text</th>\n",
       "      <th>target</th>\n",
       "    </tr>\n",
       "  </thead>\n",
       "  <tbody>\n",
       "    <tr>\n",
       "      <th>0</th>\n",
       "      <td>00002165364db923c7e6</td>\n",
       "      <td>How did Quebec nationalists see their province...</td>\n",
       "      <td>0</td>\n",
       "    </tr>\n",
       "    <tr>\n",
       "      <th>1</th>\n",
       "      <td>000032939017120e6e44</td>\n",
       "      <td>Do you have an adopted dog, how would you enco...</td>\n",
       "      <td>0</td>\n",
       "    </tr>\n",
       "    <tr>\n",
       "      <th>2</th>\n",
       "      <td>0000412ca6e4628ce2cf</td>\n",
       "      <td>Why does velocity affect time? Does velocity a...</td>\n",
       "      <td>0</td>\n",
       "    </tr>\n",
       "    <tr>\n",
       "      <th>3</th>\n",
       "      <td>000042bf85aa498cd78e</td>\n",
       "      <td>How did Otto von Guericke used the Magdeburg h...</td>\n",
       "      <td>0</td>\n",
       "    </tr>\n",
       "    <tr>\n",
       "      <th>4</th>\n",
       "      <td>0000455dfa3e01eae3af</td>\n",
       "      <td>Can I convert montra helicon D to a mountain b...</td>\n",
       "      <td>0</td>\n",
       "    </tr>\n",
       "  </tbody>\n",
       "</table>\n",
       "</div>"
      ],
      "text/plain": [
       "                    qid  ...   target\n",
       "0  00002165364db923c7e6  ...        0\n",
       "1  000032939017120e6e44  ...        0\n",
       "2  0000412ca6e4628ce2cf  ...        0\n",
       "3  000042bf85aa498cd78e  ...        0\n",
       "4  0000455dfa3e01eae3af  ...        0\n",
       "\n",
       "[5 rows x 3 columns]"
      ]
     },
     "execution_count": 43,
     "metadata": {},
     "output_type": "execute_result"
    }
   ],
   "source": [
    "#display top 5 rows\n",
    "train_df.head()"
   ]
  },
  {
   "cell_type": "code",
   "execution_count": 44,
   "metadata": {
    "_uuid": "2b5698855cba03bbb3173dd400e892881d7cbc05"
   },
   "outputs": [
    {
     "data": {
      "text/html": [
       "<div>\n",
       "<style scoped>\n",
       "    .dataframe tbody tr th:only-of-type {\n",
       "        vertical-align: middle;\n",
       "    }\n",
       "\n",
       "    .dataframe tbody tr th {\n",
       "        vertical-align: top;\n",
       "    }\n",
       "\n",
       "    .dataframe thead th {\n",
       "        text-align: right;\n",
       "    }\n",
       "</style>\n",
       "<table border=\"1\" class=\"dataframe\">\n",
       "  <thead>\n",
       "    <tr style=\"text-align: right;\">\n",
       "      <th></th>\n",
       "      <th>qid</th>\n",
       "      <th>question_text</th>\n",
       "    </tr>\n",
       "  </thead>\n",
       "  <tbody>\n",
       "    <tr>\n",
       "      <th>0</th>\n",
       "      <td>00014894849d00ba98a9</td>\n",
       "      <td>My voice range is A2-C5. My chest voice goes u...</td>\n",
       "    </tr>\n",
       "    <tr>\n",
       "      <th>1</th>\n",
       "      <td>000156468431f09b3cae</td>\n",
       "      <td>How much does a tutor earn in Bangalore?</td>\n",
       "    </tr>\n",
       "    <tr>\n",
       "      <th>2</th>\n",
       "      <td>000227734433360e1aae</td>\n",
       "      <td>What are the best made pocket knives under $20...</td>\n",
       "    </tr>\n",
       "    <tr>\n",
       "      <th>3</th>\n",
       "      <td>0005e06fbe3045bd2a92</td>\n",
       "      <td>Why would they add a hypothetical scenario tha...</td>\n",
       "    </tr>\n",
       "    <tr>\n",
       "      <th>4</th>\n",
       "      <td>00068a0f7f41f50fc399</td>\n",
       "      <td>What is the dresscode for Techmahindra freshers?</td>\n",
       "    </tr>\n",
       "  </tbody>\n",
       "</table>\n",
       "</div>"
      ],
      "text/plain": [
       "                    qid                                      question_text\n",
       "0  00014894849d00ba98a9  My voice range is A2-C5. My chest voice goes u...\n",
       "1  000156468431f09b3cae           How much does a tutor earn in Bangalore?\n",
       "2  000227734433360e1aae  What are the best made pocket knives under $20...\n",
       "3  0005e06fbe3045bd2a92  Why would they add a hypothetical scenario tha...\n",
       "4  00068a0f7f41f50fc399   What is the dresscode for Techmahindra freshers?"
      ]
     },
     "execution_count": 44,
     "metadata": {},
     "output_type": "execute_result"
    }
   ],
   "source": [
    "test_df.head()"
   ]
  },
  {
   "cell_type": "markdown",
   "metadata": {
    "_uuid": "01b61115af5dce952d6a5512040baa5ff67f8edb"
   },
   "source": [
    "### Using only text column (question_text) for building models"
   ]
  },
  {
   "cell_type": "code",
   "execution_count": 45,
   "metadata": {
    "_uuid": "d1bfbd82e5a0b821273066d5ce82d35b6e9dd248"
   },
   "outputs": [],
   "source": [
    "#features\n",
    "X = train_df['question_text']\n",
    "#target label\n",
    "Y = train_df['target']\n",
    "from sklearn.model_selection import train_test_split\n",
    "X_train, X_test, y_train, y_test = train_test_split(X, Y, test_size=0.20)"
   ]
  },
  {
   "cell_type": "markdown",
   "metadata": {
    "_uuid": "3b7d3bd2ac32ba87152a3c3ab4b9fbf775152580"
   },
   "source": [
    "## Baseline model - Logistic Regression"
   ]
  },
  {
   "cell_type": "code",
   "execution_count": 46,
   "metadata": {
    "_uuid": "e31caf13bdedfb2ab95e0343f5d010255345c660"
   },
   "outputs": [],
   "source": [
    "#pipeline for creating tf idf and  basic logistic regression model\n",
    "baseline_lr = Pipeline([\n",
    "                    ('tfidf', TfidfVectorizer(stop_words=stop_words)),\n",
    "                    ('classifier', LogisticRegression()),\n",
    "                    ])"
   ]
  },
  {
   "cell_type": "code",
   "execution_count": 47,
   "metadata": {
    "_uuid": "6ec9150c8dac107b1cd265c1949bd66f23e592eb"
   },
   "outputs": [
    {
     "data": {
      "text/plain": [
       "Pipeline(memory=None,\n",
       "     steps=[('tfidf', TfidfVectorizer(analyzer='word', binary=False, decode_error='strict',\n",
       "        dtype=<class 'numpy.float64'>, encoding='utf-8', input='content',\n",
       "        lowercase=True, max_df=1.0, max_features=None, min_df=1,\n",
       "        ngram_range=(1, 1), norm='l2', preprocessor=None, smooth_idf=True,...penalty='l2', random_state=None, solver='warn',\n",
       "          tol=0.0001, verbose=0, warm_start=False))])"
      ]
     },
     "execution_count": 47,
     "metadata": {},
     "output_type": "execute_result"
    }
   ],
   "source": [
    "#fitting the pipeline to the train data\n",
    "baseline_lr.fit(X_train, y_train )"
   ]
  },
  {
   "cell_type": "code",
   "execution_count": 48,
   "metadata": {
    "_uuid": "fd4ae0d649a11c7b11eb6efd7ffa3dca75fd29f0"
   },
   "outputs": [
    {
     "name": "stdout",
     "output_type": "stream",
     "text": [
      "              precision    recall  f1-score   support\n",
      "\n",
      "           0       0.96      0.99      0.97    245131\n",
      "           1       0.69      0.37      0.48     16094\n",
      "\n",
      "   micro avg       0.95      0.95      0.95    261225\n",
      "   macro avg       0.82      0.68      0.73    261225\n",
      "weighted avg       0.94      0.95      0.94    261225\n",
      "\n"
     ]
    }
   ],
   "source": [
    "baseline_lr_preds = baseline_lr.predict(X_test)\n",
    "print(classification_report(y_test, baseline_lr_preds))"
   ]
  },
  {
   "cell_type": "code",
   "execution_count": 49,
   "metadata": {
    "_uuid": "43f0df305ade92902f819081943db72358fbbf62"
   },
   "outputs": [],
   "source": [
    "baseline_lr_preds_prob = baseline_lr.predict_proba(X_test)[:,1]"
   ]
  },
  {
   "cell_type": "markdown",
   "metadata": {
    "_uuid": "5fde54c9e27fe9118f558ccddbb23c8d9eaf565b"
   },
   "source": [
    "#### Choosing Optimal threshold with better F1 score"
   ]
  },
  {
   "cell_type": "code",
   "execution_count": 50,
   "metadata": {
    "_uuid": "24d6deec88d9523d06431040910c99c53afb73a3"
   },
   "outputs": [
    {
     "name": "stdout",
     "output_type": "stream",
     "text": [
      "F1 score at threshold 0.1 is 0.536083299959952\n",
      "F1 score at threshold 0.11 is 0.5480727090594152\n",
      "F1 score at threshold 0.12 is 0.5583883894725441\n",
      "F1 score at threshold 0.13 is 0.5678053597881223\n",
      "F1 score at threshold 0.14 is 0.5742010189902733\n",
      "F1 score at threshold 0.15 is 0.5791408114558473\n",
      "F1 score at threshold 0.16 is 0.5840734016976596\n",
      "F1 score at threshold 0.17 is 0.5871462709093196\n",
      "F1 score at threshold 0.18 is 0.5910355486862443\n",
      "F1 score at threshold 0.19 is 0.5923586990843068\n",
      "F1 score at threshold 0.2 is 0.5948475232614425\n",
      "F1 score at threshold 0.21 is 0.594995060915377\n",
      "F1 score at threshold 0.22 is 0.5944646351691362\n",
      "F1 score at threshold 0.23 is 0.5942710560068405\n",
      "F1 score at threshold 0.24 is 0.5939313065676491\n",
      "F1 score at threshold 0.25 is 0.5917337817505975\n",
      "F1 score at threshold 0.26 is 0.5891956782713085\n",
      "F1 score at threshold 0.27 is 0.587805101014718\n",
      "F1 score at threshold 0.28 is 0.5852948463825571\n",
      "F1 score at threshold 0.29 is 0.583881010031131\n",
      "F1 score at threshold 0.3 is 0.5801799502265331\n",
      "F1 score at threshold 0.31 is 0.5769591816916454\n",
      "F1 score at threshold 0.32 is 0.5743731127740581\n",
      "F1 score at threshold 0.33 is 0.5714666045459084\n",
      "F1 score at threshold 0.34 is 0.5677358554070884\n",
      "F1 score at threshold 0.35 is 0.5636022514071295\n",
      "F1 score at threshold 0.36 is 0.5594115818916399\n",
      "F1 score at threshold 0.37 is 0.5548567435359889\n",
      "F1 score at threshold 0.38 is 0.5500566411781365\n",
      "F1 score at threshold 0.39 is 0.5443668278703205\n",
      "F1 score at threshold 0.4 is 0.5388015361205709\n",
      "F1 score at threshold 0.41 is 0.53386541700227\n",
      "F1 score at threshold 0.42 is 0.5272518433435843\n",
      "F1 score at threshold 0.43 is 0.522928218192717\n",
      "F1 score at threshold 0.44 is 0.5175508349426332\n",
      "F1 score at threshold 0.45 is 0.512280970234907\n",
      "F1 score at threshold 0.46 is 0.5078200424792431\n",
      "F1 score at threshold 0.47 is 0.5025360905189231\n",
      "F1 score at threshold 0.48 is 0.49544252850885845\n",
      "F1 score at threshold 0.49 is 0.48869211439511784\n",
      "F1 score at threshold 0.5 is 0.48135155840490296\n",
      "F1 score at threshold 0.51 is 0.4747943643619187\n",
      "F1 score at threshold 0.52 is 0.468534341110746\n",
      "F1 score at threshold 0.53 is 0.4618319028071485\n",
      "F1 score at threshold 0.54 is 0.4544769243655247\n",
      "F1 score at threshold 0.55 is 0.4486447629920927\n",
      "F1 score at threshold 0.56 is 0.44134340460035\n",
      "F1 score at threshold 0.57 is 0.4337453167391585\n",
      "F1 score at threshold 0.58 is 0.4273667738850735\n",
      "F1 score at threshold 0.59 is 0.42147709840017533\n"
     ]
    }
   ],
   "source": [
    "f1_list = []\n",
    "for threshold in np.arange(0.1, 0.6, 0.01):\n",
    "    threshold = np.round(threshold, 2)\n",
    "    f1_list.append((f1_score(y_test, (baseline_lr_preds_prob>threshold).astype(int)),threshold))\n",
    "    print(\"F1 score at threshold {0} is {1}\".format(threshold, f1_score(y_test, (baseline_lr_preds_prob>threshold).astype(int))))"
   ]
  },
  {
   "cell_type": "code",
   "execution_count": 51,
   "metadata": {
    "_uuid": "93e4d326b59571759885c9c277a081badb18ba92"
   },
   "outputs": [],
   "source": [
    "def sort_tuple(tup):\n",
    "    return tup[0]\n",
    "\n",
    "best_threshold = sorted(f1_list,key=sort_tuple, reverse=True)[0][1]"
   ]
  },
  {
   "cell_type": "code",
   "execution_count": 52,
   "metadata": {
    "_uuid": "fdc2ccecccc525c23f79a3125b4e69ef5ce6c08f"
   },
   "outputs": [],
   "source": [
    "##creating a submission file with the optimal threshold with the baseline model\n",
    "def submission(df, predictions, file_name, threshold=0.20):\n",
    "    print('Optimal threshold with better F1 score is: ', threshold)\n",
    "    results = (predictions > threshold).astype(int)\n",
    "    df['prediction'] = results\n",
    "    file = (file_name + '.csv')\n",
    "    df.to_csv(file, index=False)"
   ]
  },
  {
   "cell_type": "code",
   "execution_count": 53,
   "metadata": {
    "_uuid": "c79ba0dfb1d288b7da18b536a5fc1d8beab43e57"
   },
   "outputs": [],
   "source": [
    "#predicting the classes on test data\n",
    "baseline_lr_preds_prob = baseline_lr.predict_proba(test_df['question_text'])"
   ]
  },
  {
   "cell_type": "code",
   "execution_count": 54,
   "metadata": {
    "_uuid": "2528d336629e2d4045fc30fc1fb01a040dfcb04e"
   },
   "outputs": [
    {
     "data": {
      "text/plain": [
       "array([[0.99171998, 0.00828002],\n",
       "       [0.994045  , 0.005955  ],\n",
       "       [0.98579683, 0.01420317],\n",
       "       ...,\n",
       "       [0.99180229, 0.00819771],\n",
       "       [0.98323511, 0.01676489],\n",
       "       [0.20384503, 0.79615497]])"
      ]
     },
     "execution_count": 54,
     "metadata": {},
     "output_type": "execute_result"
    }
   ],
   "source": [
    "baseline_lr_preds_prob"
   ]
  },
  {
   "cell_type": "code",
   "execution_count": 55,
   "metadata": {
    "_uuid": "21f141679a3458bf952a141f8688f595f0913b1e"
   },
   "outputs": [
    {
     "name": "stdout",
     "output_type": "stream",
     "text": [
      "Saving the results in the submission file\n",
      "Optimal threshold with better F1 score is:  0.21\n"
     ]
    }
   ],
   "source": [
    "print('Saving the results in the submission file')\n",
    "sub_df = pd.read_csv('../input/sample_submission.csv')\n",
    "submission(sub_df, baseline_lr_preds_prob, 'submission', threshold=best_threshold)"
   ]
  },
  {
   "cell_type": "code",
   "execution_count": 56,
   "metadata": {
    "_uuid": "23429f5fd279787e7fa2ad865b93eaab7710fe6c"
   },
   "outputs": [
    {
     "name": "stdout",
     "output_type": "stream",
     "text": [
      "At threshold 0.21, we are getting better F1 score and we will be choosing this threshold for our submission. This is our baseline and we will try to beat this score\n"
     ]
    }
   ],
   "source": [
    "print(\"At threshold {0}, we are getting better F1 score and we will be choosing this threshold for our submission. This is our baseline and we will try to beat this score\".format(best_threshold))"
   ]
  },
  {
   "cell_type": "markdown",
   "metadata": {
    "_uuid": "153e76c5b420abcab29b401791b84ac70276dfb1"
   },
   "source": [
    "## Naive Bayes"
   ]
  },
  {
   "cell_type": "code",
   "execution_count": 57,
   "metadata": {
    "_uuid": "cc6c13bb79b8bff1e383c4c490ffdb861653d27c"
   },
   "outputs": [],
   "source": [
    "#pipeline for creating tf idf and  naive bayes model\n",
    "naive_bayes = Pipeline([\n",
    "                    ('count_vect', CountVectorizer()),\n",
    "                    ('classifier', MultinomialNB()),\n",
    "                    ])"
   ]
  },
  {
   "cell_type": "code",
   "execution_count": 58,
   "metadata": {
    "_uuid": "313684d20ddd662086d3aefc838d298f1f4287b9"
   },
   "outputs": [
    {
     "data": {
      "text/plain": [
       "Pipeline(memory=None,\n",
       "     steps=[('count_vect', CountVectorizer(analyzer='word', binary=False, decode_error='strict',\n",
       "        dtype=<class 'numpy.int64'>, encoding='utf-8', input='content',\n",
       "        lowercase=True, max_df=1.0, max_features=None, min_df=1,\n",
       "        ngram_range=(1, 1), preprocessor=None, stop_words=None,\n",
       "        strip_accents=None, token_pattern='(?u)\\\\b\\\\w\\\\w+\\\\b',\n",
       "        tokenizer=None, vocabulary=None)), ('classifier', MultinomialNB(alpha=1.0, class_prior=None, fit_prior=True))])"
      ]
     },
     "execution_count": 58,
     "metadata": {},
     "output_type": "execute_result"
    }
   ],
   "source": [
    "#fitting the pipeline to the train data\n",
    "naive_bayes.fit(X_train, y_train)"
   ]
  },
  {
   "cell_type": "code",
   "execution_count": 59,
   "metadata": {
    "_uuid": "ccbaec23794ac75b1fed30f726aadf6d86c1257e"
   },
   "outputs": [
    {
     "name": "stdout",
     "output_type": "stream",
     "text": [
      "              precision    recall  f1-score   support\n",
      "\n",
      "           0       0.98      0.95      0.96    245131\n",
      "           1       0.47      0.69      0.56     16094\n",
      "\n",
      "   micro avg       0.93      0.93      0.93    261225\n",
      "   macro avg       0.73      0.82      0.76    261225\n",
      "weighted avg       0.95      0.93      0.94    261225\n",
      "\n"
     ]
    }
   ],
   "source": [
    "naive_bayes_preds = naive_bayes.predict(X_test)\n",
    "print(classification_report(y_test, naive_bayes_preds))"
   ]
  },
  {
   "cell_type": "code",
   "execution_count": 60,
   "metadata": {
    "_uuid": "2893eed07379069f2c16fbca2774c7c88897a12b"
   },
   "outputs": [],
   "source": [
    "naive_bayes_preds_prob = naive_bayes.predict_proba(X_test)[:,1]"
   ]
  },
  {
   "cell_type": "markdown",
   "metadata": {
    "_uuid": "6c79c1eade89060c10523dfb76822c668c6b9ff6"
   },
   "source": [
    "\n",
    "#### Choosing Optimal threshold with better F1 score"
   ]
  },
  {
   "cell_type": "code",
   "execution_count": 61,
   "metadata": {
    "_uuid": "c322dd645fe6a5fcac0eabde1dd4b4c42626d031"
   },
   "outputs": [
    {
     "name": "stdout",
     "output_type": "stream",
     "text": [
      "F1 score at threshold 0.1 is 0.47847826086956524\n",
      "F1 score at threshold 0.11 is 0.4841464539334133\n",
      "F1 score at threshold 0.12 is 0.4886465827338129\n",
      "F1 score at threshold 0.13 is 0.4937477398602995\n",
      "F1 score at threshold 0.14 is 0.4975381823096677\n",
      "F1 score at threshold 0.15 is 0.5011350293542075\n",
      "F1 score at threshold 0.16 is 0.5054004241067005\n",
      "F1 score at threshold 0.17 is 0.5091703581951933\n",
      "F1 score at threshold 0.18 is 0.5126468022960995\n",
      "F1 score at threshold 0.19 is 0.5153552831194391\n",
      "F1 score at threshold 0.2 is 0.51814887669531\n",
      "F1 score at threshold 0.21 is 0.521075520615539\n",
      "F1 score at threshold 0.22 is 0.5239472295514511\n",
      "F1 score at threshold 0.23 is 0.5264167021729868\n",
      "F1 score at threshold 0.24 is 0.5291867262723521\n",
      "F1 score at threshold 0.25 is 0.5312709863304521\n",
      "F1 score at threshold 0.26 is 0.5331616507714803\n",
      "F1 score at threshold 0.27 is 0.53512205850011\n",
      "F1 score at threshold 0.28 is 0.5368544652945477\n",
      "F1 score at threshold 0.29 is 0.5388339766616836\n",
      "F1 score at threshold 0.3 is 0.5405939704362673\n",
      "F1 score at threshold 0.31 is 0.542344503020567\n",
      "F1 score at threshold 0.32 is 0.5435565482973971\n",
      "F1 score at threshold 0.33 is 0.5448457745671368\n",
      "F1 score at threshold 0.34 is 0.5461046900592891\n",
      "F1 score at threshold 0.35 is 0.5474818806913214\n",
      "F1 score at threshold 0.36 is 0.5492681101809849\n",
      "F1 score at threshold 0.37 is 0.5499623635679337\n",
      "F1 score at threshold 0.38 is 0.5511188910441405\n",
      "F1 score at threshold 0.39 is 0.5527367920038077\n",
      "F1 score at threshold 0.4 is 0.5547148125089795\n",
      "F1 score at threshold 0.41 is 0.5565699144887389\n",
      "F1 score at threshold 0.42 is 0.5574294853154987\n",
      "F1 score at threshold 0.43 is 0.5583763765714842\n",
      "F1 score at threshold 0.44 is 0.5588516277588614\n",
      "F1 score at threshold 0.45 is 0.5596651071164738\n",
      "F1 score at threshold 0.46 is 0.5605805428967704\n",
      "F1 score at threshold 0.47 is 0.5614148710922905\n",
      "F1 score at threshold 0.48 is 0.5618596728538864\n",
      "F1 score at threshold 0.49 is 0.5623693555292517\n",
      "F1 score at threshold 0.5 is 0.5625569851078919\n",
      "F1 score at threshold 0.51 is 0.5629343039682339\n",
      "F1 score at threshold 0.52 is 0.5634242439748248\n",
      "F1 score at threshold 0.53 is 0.5644800164706488\n",
      "F1 score at threshold 0.54 is 0.5654650921897659\n",
      "F1 score at threshold 0.55 is 0.56546875\n",
      "F1 score at threshold 0.56 is 0.5654883477350092\n",
      "F1 score at threshold 0.57 is 0.565560821484992\n",
      "F1 score at threshold 0.58 is 0.5656063092150533\n",
      "F1 score at threshold 0.59 is 0.5662224350277977\n",
      "F1 score at threshold 0.6 is 0.5666853797417595\n",
      "F1 score at threshold 0.61 is 0.5666227799124056\n",
      "F1 score at threshold 0.62 is 0.5668729562467909\n",
      "F1 score at threshold 0.63 is 0.5670335643429815\n",
      "F1 score at threshold 0.64 is 0.5672816728167281\n",
      "F1 score at threshold 0.65 is 0.5675229660597394\n",
      "F1 score at threshold 0.66 is 0.5674210147734189\n",
      "F1 score at threshold 0.67 is 0.568206499039345\n",
      "F1 score at threshold 0.68 is 0.5682524570884553\n",
      "F1 score at threshold 0.69 is 0.568626345752776\n",
      "F1 score at threshold 0.7 is 0.5689831084911008\n",
      "F1 score at threshold 0.71 is 0.5691233071988596\n",
      "F1 score at threshold 0.72 is 0.5692793568762561\n",
      "F1 score at threshold 0.73 is 0.5695953757225434\n",
      "F1 score at threshold 0.74 is 0.5694093011081057\n",
      "F1 score at threshold 0.75 is 0.5694546093269709\n",
      "F1 score at threshold 0.76 is 0.569223063551457\n",
      "F1 score at threshold 0.77 is 0.5692672797389499\n",
      "F1 score at threshold 0.78 is 0.5689701532670073\n",
      "F1 score at threshold 0.79 is 0.5686109440769693\n"
     ]
    }
   ],
   "source": [
    "f1_list = []\n",
    "for threshold in np.arange(0.1, 0.8, 0.01):\n",
    "    threshold = np.round(threshold, 2)\n",
    "    f1_list.append((f1_score(y_test, (naive_bayes_preds_prob>threshold).astype(int)),threshold))\n",
    "    print(\"F1 score at threshold {0} is {1}\".format(threshold, f1_score(y_test, (naive_bayes_preds_prob>threshold).astype(int))))"
   ]
  },
  {
   "cell_type": "code",
   "execution_count": 62,
   "metadata": {
    "_uuid": "796f3f78b2a72063f13a524ec9fe8042fea679d9"
   },
   "outputs": [],
   "source": [
    "def sort_tuple(tup):\n",
    "    return tup[0]\n",
    "\n",
    "best_threshold = sorted(f1_list,key=sort_tuple, reverse=True)[0][1]"
   ]
  },
  {
   "cell_type": "code",
   "execution_count": 64,
   "metadata": {
    "_uuid": "3dbe2b41e14b0362acee8f8bdf38030c9d8fcfdd"
   },
   "outputs": [],
   "source": [
    "#predicting the classes on test data\n",
    "naive_bayes_preds_prob = naive_bayes.predict_proba(test_df['question_text'])"
   ]
  },
  {
   "cell_type": "code",
   "execution_count": 66,
   "metadata": {
    "_uuid": "53de28212dbb9802626ab135289a3737680d79a8"
   },
   "outputs": [
    {
     "name": "stdout",
     "output_type": "stream",
     "text": [
      "Saving the results in the submission file\n",
      "Optimal threshold with better F1 score is:  0.73\n"
     ]
    }
   ],
   "source": [
    "print('Saving the results in the submission file')\n",
    "sub_df = pd.read_csv('../input/sample_submission.csv')\n",
    "submission(sub_df, naive_bayes_preds_prob, 'submission', threshold=best_threshold)"
   ]
  },
  {
   "cell_type": "code",
   "execution_count": 67,
   "metadata": {
    "_uuid": "ed95e9e664168c47e89d673f6779d2be75d22d7c"
   },
   "outputs": [
    {
     "name": "stdout",
     "output_type": "stream",
     "text": [
      "At threshold 0.73 we are getting better F1 score and we will be choosing this threshold for our submission.\n"
     ]
    }
   ],
   "source": [
    "print(\"At threshold {0} we are getting better F1 score and we will be choosing this threshold for our submission.\".format(best_threshold))"
   ]
  },
  {
   "cell_type": "markdown",
   "metadata": {
    "_uuid": "2a1ebfdfbe6075972e5f4327992ccaceb9d46027"
   },
   "source": [
    "## Random Forest"
   ]
  },
  {
   "cell_type": "code",
   "execution_count": 69,
   "metadata": {
    "_uuid": "4fb85f7d129d44dfaefd47663a813156c04e11e5"
   },
   "outputs": [],
   "source": [
    "#pipeline for creating tf idf and  naive bayes model\n",
    "random_forest = Pipeline([\n",
    "                    ('tfidf', TfidfVectorizer(stop_words=stop_words)),\n",
    "                    ('classifier', RandomForestClassifier()),\n",
    "                    ])"
   ]
  },
  {
   "cell_type": "code",
   "execution_count": 70,
   "metadata": {
    "_uuid": "9b84e32ff804ea996b37f0d9f898f37c14826eb0"
   },
   "outputs": [
    {
     "data": {
      "text/plain": [
       "Pipeline(memory=None,\n",
       "     steps=[('tfidf', TfidfVectorizer(analyzer='word', binary=False, decode_error='strict',\n",
       "        dtype=<class 'numpy.float64'>, encoding='utf-8', input='content',\n",
       "        lowercase=True, max_df=1.0, max_features=None, min_df=1,\n",
       "        ngram_range=(1, 1), norm='l2', preprocessor=None, smooth_idf=True,...obs=None,\n",
       "            oob_score=False, random_state=None, verbose=0,\n",
       "            warm_start=False))])"
      ]
     },
     "execution_count": 70,
     "metadata": {},
     "output_type": "execute_result"
    }
   ],
   "source": [
    "#fitting the pipeline to the train data\n",
    "random_forest.fit(X_train, y_train)"
   ]
  },
  {
   "cell_type": "code",
   "execution_count": 71,
   "metadata": {
    "_uuid": "0c98734b72a58365b29727fbab3c8ca072c918e4"
   },
   "outputs": [
    {
     "name": "stdout",
     "output_type": "stream",
     "text": [
      "              precision    recall  f1-score   support\n",
      "\n",
      "           0       0.95      0.99      0.97    245131\n",
      "           1       0.67      0.19      0.29     16094\n",
      "\n",
      "   micro avg       0.94      0.94      0.94    261225\n",
      "   macro avg       0.81      0.59      0.63    261225\n",
      "weighted avg       0.93      0.94      0.93    261225\n",
      "\n"
     ]
    }
   ],
   "source": [
    "random_forest_preds = random_forest.predict(X_test)\n",
    "print(classification_report(y_test, random_forest_preds))"
   ]
  },
  {
   "cell_type": "code",
   "execution_count": 72,
   "metadata": {
    "_uuid": "60c8811849546e2c8bb09ae6f7bbaa1cfabfbf64"
   },
   "outputs": [],
   "source": [
    "random_forest_preds_prob = random_forest.predict_proba(X_test)[:,1]"
   ]
  },
  {
   "cell_type": "markdown",
   "metadata": {
    "_uuid": "7acbc9c6071e8b98c09e3dfb3e9ad169553272a5"
   },
   "source": [
    "#### Choosing Optimal threshold with better F1 score\n"
   ]
  },
  {
   "cell_type": "code",
   "execution_count": 73,
   "metadata": {
    "_uuid": "c1a1ccf5466726fa0b941aeb08436175ef5a8e46"
   },
   "outputs": [
    {
     "name": "stdout",
     "output_type": "stream",
     "text": [
      "F1 score at threshold 0.1 is 0.5066816104836623\n",
      "F1 score at threshold 0.11 is 0.5072983244083608\n",
      "F1 score at threshold 0.12 is 0.5078712914107776\n",
      "F1 score at threshold 0.13 is 0.5083116883116883\n",
      "F1 score at threshold 0.14 is 0.5086214366172777\n",
      "F1 score at threshold 0.15 is 0.5088331563089329\n",
      "F1 score at threshold 0.16 is 0.5088441862481574\n",
      "F1 score at threshold 0.17 is 0.50882518756234\n",
      "F1 score at threshold 0.18 is 0.5088362209163649\n",
      "F1 score at threshold 0.19 is 0.5088362209163649\n",
      "F1 score at threshold 0.2 is 0.5322585207184273\n",
      "F1 score at threshold 0.21 is 0.5325819149839993\n",
      "F1 score at threshold 0.22 is 0.532759011562004\n",
      "F1 score at threshold 0.23 is 0.5330913627856859\n",
      "F1 score at threshold 0.24 is 0.5333333333333334\n",
      "F1 score at threshold 0.25 is 0.5333333333333333\n",
      "F1 score at threshold 0.26 is 0.5333484766745222\n",
      "F1 score at threshold 0.27 is 0.5334734569829863\n",
      "F1 score at threshold 0.28 is 0.5335340738005283\n",
      "F1 score at threshold 0.29 is 0.5335340738005283\n",
      "F1 score at threshold 0.3 is 0.4913359418669648\n",
      "F1 score at threshold 0.31 is 0.4911569381335198\n",
      "F1 score at threshold 0.32 is 0.49102676228791325\n",
      "F1 score at threshold 0.33 is 0.4910426871938418\n",
      "F1 score at threshold 0.34 is 0.491177706203613\n",
      "F1 score at threshold 0.35 is 0.4909403147233028\n",
      "F1 score at threshold 0.36 is 0.4908874246460114\n",
      "F1 score at threshold 0.37 is 0.4909709316595953\n",
      "F1 score at threshold 0.38 is 0.4907764606859788\n",
      "F1 score at threshold 0.39 is 0.49058192149847407\n",
      "F1 score at threshold 0.4 is 0.4023499790180445\n",
      "F1 score at threshold 0.41 is 0.4022505878401075\n",
      "F1 score at threshold 0.42 is 0.40228485026670585\n",
      "F1 score at threshold 0.43 is 0.40231913284597937\n",
      "F1 score at threshold 0.44 is 0.4022186738381377\n",
      "F1 score at threshold 0.45 is 0.4020354093948442\n",
      "F1 score at threshold 0.46 is 0.4019682059046177\n",
      "F1 score at threshold 0.47 is 0.40144726324203794\n",
      "F1 score at threshold 0.48 is 0.40149793823108637\n",
      "F1 score at threshold 0.49 is 0.4015148327372186\n",
      "F1 score at threshold 0.5 is 0.29342392623149727\n",
      "F1 score at threshold 0.51 is 0.2931210252924899\n",
      "F1 score at threshold 0.52 is 0.29292929292929293\n",
      "F1 score at threshold 0.53 is 0.2925431139179014\n",
      "F1 score at threshold 0.54 is 0.29247437205460813\n",
      "F1 score at threshold 0.55 is 0.2918671916776044\n",
      "F1 score at threshold 0.56 is 0.2917011036025086\n",
      "F1 score at threshold 0.57 is 0.29120451449698387\n",
      "F1 score at threshold 0.58 is 0.29084537888742884\n",
      "F1 score at threshold 0.59 is 0.29084537888742884\n",
      "F1 score at threshold 0.6 is 0.18116728140594487\n",
      "F1 score at threshold 0.61 is 0.181196766668475\n",
      "F1 score at threshold 0.62 is 0.1811472296087263\n",
      "F1 score at threshold 0.63 is 0.18115706067513296\n",
      "F1 score at threshold 0.64 is 0.18095961788970907\n",
      "F1 score at threshold 0.65 is 0.18033677349266702\n",
      "F1 score at threshold 0.66 is 0.18033677349266702\n",
      "F1 score at threshold 0.67 is 0.17995110024449876\n",
      "F1 score at threshold 0.68 is 0.1796836784607859\n",
      "F1 score at threshold 0.69 is 0.1796836784607859\n",
      "F1 score at threshold 0.7 is 0.09687172927084545\n",
      "F1 score at threshold 0.71 is 0.09665600465251527\n",
      "F1 score at threshold 0.72 is 0.0965565379246161\n",
      "F1 score at threshold 0.73 is 0.09645142524723677\n",
      "F1 score at threshold 0.74 is 0.09612475270569068\n",
      "F1 score at threshold 0.75 is 0.0960363191898027\n",
      "F1 score at threshold 0.76 is 0.0960363191898027\n",
      "F1 score at threshold 0.77 is 0.09592549476135041\n",
      "F1 score at threshold 0.78 is 0.09570937882051582\n",
      "F1 score at threshold 0.79 is 0.09570937882051582\n"
     ]
    }
   ],
   "source": [
    "f1_list = []\n",
    "for threshold in np.arange(0.1, 0.8, 0.01):\n",
    "    threshold = np.round(threshold, 2)\n",
    "    f1_list.append((f1_score(y_test, (random_forest_preds_prob>threshold).astype(int)),threshold))\n",
    "    print(\"F1 score at threshold {0} is {1}\".format(threshold, f1_score(y_test, (random_forest_preds_prob>threshold).astype(int))))"
   ]
  },
  {
   "cell_type": "code",
   "execution_count": 74,
   "metadata": {
    "_uuid": "c2a7dfbb69497fa0b71cd1e7808236d1ac534734"
   },
   "outputs": [],
   "source": [
    "def sort_tuple(tup):\n",
    "    return tup[0]\n",
    "\n",
    "best_threshold = sorted(f1_list,key=sort_tuple, reverse=True)[0][1]"
   ]
  },
  {
   "cell_type": "code",
   "execution_count": 75,
   "metadata": {
    "_uuid": "d84a58c0c9f0a31ff254cde5db20b907337fce57"
   },
   "outputs": [],
   "source": [
    "#predicting the classes on test data\n",
    "random_forest_preds_prob = random_forest.predict_proba(test_df['question_text'])"
   ]
  },
  {
   "cell_type": "code",
   "execution_count": 76,
   "metadata": {
    "_uuid": "07ff873a6d21341c52e324be5234087b25927c2d"
   },
   "outputs": [
    {
     "name": "stdout",
     "output_type": "stream",
     "text": [
      "Saving the results in the submission file\n",
      "Optimal threshold with better F1 score is:  0.28\n"
     ]
    }
   ],
   "source": [
    "print('Saving the results in the submission file')\n",
    "sub_df = pd.read_csv('../input/sample_submission.csv')\n",
    "submission(sub_df, random_forest_preds_prob, 'submission', threshold=best_threshold)"
   ]
  },
  {
   "cell_type": "code",
   "execution_count": 77,
   "metadata": {
    "_uuid": "b66a482f937054c1612cc09f0f9985ce5970a185"
   },
   "outputs": [
    {
     "name": "stdout",
     "output_type": "stream",
     "text": [
      "At threshold 0.28 we are getting better F1 score and we will be choosing this threshold for our submission.\n"
     ]
    }
   ],
   "source": [
    "print(\"At threshold {0} we are getting better F1 score and we will be choosing this threshold for our submission.\".format(best_threshold))"
   ]
  },
  {
   "cell_type": "markdown",
   "metadata": {
    "_uuid": "9106c209a170bf4473f18d2eaea152b05fe3ef48"
   },
   "source": [
    "### Precision Recall Curves"
   ]
  },
  {
   "cell_type": "code",
   "execution_count": 80,
   "metadata": {
    "_uuid": "3690c89339b1e3d6c2d0b004e6bab89f3963c392"
   },
   "outputs": [],
   "source": [
    "baseline_lr_preds_prob = baseline_lr.predict_proba(X_test)[:,1]\n",
    "naive_bayes_preds_prob = naive_bayes.predict_proba(X_test)[:,1]\n",
    "random_forest_preds_prob = random_forest.predict_proba(X_test)[:,1]\n"
   ]
  },
  {
   "cell_type": "code",
   "execution_count": 84,
   "metadata": {
    "_uuid": "4a7d7100b457d0986cb763b06fb7aee4432d50ba"
   },
   "outputs": [
    {
     "data": {
      "image/png": "[encoded data removed]",
      "text/plain": [
       "<Figure size 432x288 with 1 Axes>"
      ]
     },
     "metadata": {},
     "output_type": "display_data"
    }
   ],
   "source": [
    "classfier_pred_list = [baseline_lr_preds_prob,naive_bayes_preds_prob,random_forest_preds_prob]\n",
    "classifiers_list = ['Logistic Regression','Naive Bayes','Random Forest']\n",
    "count=0\n",
    "for classifier,col in zip(classfier_pred_list,'bgr'):\n",
    "    p,r,_ = precision_recall_curve(y_test,classifier)   \n",
    "    plt.plot(r,p,c=col,label=classifiers_list[count])\n",
    "    count += 1\n",
    "plt.legend(loc='lower left')   \n",
    "plt.xlabel(\"Recall\")\n",
    "plt.ylabel(\"Precision\")\n",
    "plt.show()"
   ]
  },
  {
   "cell_type": "code",
   "execution_count": null,
   "metadata": {
    "_uuid": "8312360136559a7c72d34a8a560e097df2f8cfb3"
   },
   "outputs": [],
   "source": []
  }
 ],
 "metadata": {
  "kernelspec": {
   "display_name": "Python 3",
   "language": "python",
   "name": "python3"
  },
  "language_info": {
   "codemirror_mode": {
    "name": "ipython",
    "version": 3
   },
   "file_extension": ".py",
   "mimetype": "text/x-python",
   "name": "python",
   "nbconvert_exporter": "python",
   "pygments_lexer": "ipython3",
   "version": "3.7.0"
  }
 },
 "nbformat": 4,
 "nbformat_minor": 1
}
